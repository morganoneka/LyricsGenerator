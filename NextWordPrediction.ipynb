{
 "cells": [
  {
   "cell_type": "markdown",
   "id": "604da5c6-b5c8-467d-bf9e-29f9f10b9a44",
   "metadata": {},
   "source": [
    "# Generating lyrics using a word prediction dictionary\n",
    "Using code adapted from [The Clever Programmer's Next Word Prediction](https://thecleverprogrammer.com/2021/01/19/next-word-prediction-with-python/), we'll use our scraped lyrics to generate a new song!"
   ]
  },
  {
   "cell_type": "code",
   "execution_count": 3,
   "id": "d6037d16-71d4-4568-abb4-a756e38d019a",
   "metadata": {},
   "outputs": [],
   "source": [
    "import numpy as np\n",
    "import re\n",
    "from collections import Counter\n",
    "import random"
   ]
  },
  {
   "cell_type": "markdown",
   "id": "782d99d7-cd2e-4b2a-9a48-0b07e9c5b650",
   "metadata": {},
   "source": [
    "First, let's start by reading our lyrics in and removing punctuation"
   ]
  },
  {
   "cell_type": "code",
   "execution_count": 28,
   "id": "ea9d22c5-e4b5-41dc-9e62-0754d6cb827d",
   "metadata": {},
   "outputs": [],
   "source": [
    "data = open('playlist.txt').readlines()"
   ]
  },
  {
   "cell_type": "code",
   "execution_count": 30,
   "id": "ed9e91e9-fd81-4733-ab23-bb6dfee0856d",
   "metadata": {},
   "outputs": [
    {
     "data": {
      "text/plain": [
       "['hull\\n',\n",
       " \"i've travelled the land with a guitar in my hand\\n\",\n",
       " 'and an eye ever open for some fun\\n',\n",
       " \"i've made some mistakes, had my share of the breaks\\n\",\n",
       " 'seen the boys on the make and on the bum\\n']"
      ]
     },
     "execution_count": 30,
     "metadata": {},
     "output_type": "execute_result"
    }
   ],
   "source": [
    "data[:5]"
   ]
  },
  {
   "cell_type": "code",
   "execution_count": 38,
   "id": "8fc7f67a-db58-483f-935d-816a4612e0fc",
   "metadata": {},
   "outputs": [],
   "source": [
    "def clean_line(line):\n",
    "    chars_to_remove = ['.', ',', '…', '?', '\"', '!', ';', ':', \"(\",\")\",\"-\",\"—\"]\n",
    "    rx = '[' + re.escape(''.join(chars_to_remove)) + ']'\n",
    "    line = re.sub(rx,'',line).strip()\n",
    "    return(line)"
   ]
  },
  {
   "cell_type": "code",
   "execution_count": 39,
   "id": "8a1e64d1-aefe-4e2a-9eca-675d9d0959e8",
   "metadata": {},
   "outputs": [],
   "source": [
    "data = [clean_line(x) for x in data]"
   ]
  },
  {
   "cell_type": "markdown",
   "id": "78bacdae-3eaf-4142-a877-feaa971d0c84",
   "metadata": {},
   "source": [
    "Next, we are going to create three dictionaries:\n",
    "- `lexicon`: for each key, what is the occurence of words that come immediately after?\n",
    "- `backward_lexicon`: for each key, what is the occurrence of words that come immediately before?\n",
    "- `lineend_lexicon`: for each key (created only from words at the end of each line), what is the occurrence of words that end the line immediately before?"
   ]
  },
  {
   "cell_type": "code",
   "execution_count": 154,
   "id": "765974ad-4dd0-41d1-9545-abc203003a61",
   "metadata": {},
   "outputs": [],
   "source": [
    "lexicon = {}\n",
    "backward_lexicon = {}\n",
    "lineend_lexicon = {}\n",
    "\n",
    "def update_lexicon(current : str, next_word : str) -> None:\n",
    "    # Add the input word to the lexicon if it in there yet.\n",
    "    if current not in lexicon:\n",
    "        lexicon.update({current: {next_word: 1} })\n",
    "        return\n",
    "    \n",
    "    if next_word not in backward_lexicon:\n",
    "        backward_lexicon.update({next_word: {current:1}})\n",
    "        return\n",
    "\n",
    "    # Recieve the probabilties of the input word.\n",
    "    options = lexicon[current]\n",
    "    options_backward = backward_lexicon[next_word]\n",
    "\n",
    "    # Check if the output word is in the propability list.\n",
    "    if next_word not in options:\n",
    "        options.update({next_word : 1})\n",
    "    else:\n",
    "        options.update({next_word : options[next_word] + 1})\n",
    "        \n",
    "    if current not in options_backward:\n",
    "        options_backward.update({current : 1})\n",
    "    else:\n",
    "        options_backward.update({current : options_backward[current] + 1})\n",
    "\n",
    "\n",
    "    # Update the lexicon\n",
    "    lexicon[current] = options\n",
    "    backward_lexicon[next_word] = options_backward\n",
    "    \n",
    "def update_lineend(current : str, next_word : str) -> None:\n",
    "    if current not in lineend_lexicon:\n",
    "        lineend_lexicon.update({current: {next_word: 1} })\n",
    "        return\n",
    "    \n",
    "    options = lineend_lexicon[current]\n",
    "    if next_word not in options:\n",
    "        options.update({next_word : 1})\n",
    "    else:\n",
    "        options.update({next_word : options[next_word] + 1})\n",
    "        \n",
    "    lineend_lexicon[current] = options\n",
    "\n",
    "\n",
    "with open('playlist.txt', 'r') as dataset:\n",
    "    end = \"\"\n",
    "    for line in dataset:\n",
    "        line = clean_line(line)\n",
    "        words = line.strip().split(' ')\n",
    "        for i in range(len(words) - 1):\n",
    "            update_lexicon(words[i], words[i+1])\n",
    "            \n",
    "        update_lexicon(words[len(words)-1], \"{{ENDLINE}}\")\n",
    "        update_lexicon(\"{{STARTLINE}}\", words[0])\n",
    "        if end != \"\":\n",
    "            update_lineend(end,words[len(words)-1])\n",
    "        end = words[len(words)-1]\n",
    "        "
   ]
  },
  {
   "cell_type": "markdown",
   "id": "9e6dd342-28f9-4497-8a3b-f0b696e1371c",
   "metadata": {},
   "source": [
    "Once we've created our dictionaries, we can then convert them from counts (i.e. `sun` follows `the` fifteen times) to percentages (when we see `the`, `sun` follows 3% of the time)"
   ]
  },
  {
   "cell_type": "code",
   "execution_count": 154,
   "id": "c658e9a0-e954-4927-8fe2-eea7157fbb20",
   "metadata": {},
   "outputs": [],
   "source": [
    "for word, transition in lineend_lexicon.items():\n",
    "    transition = dict((key, value / sum(transition.values())) for key, value in transition.items())\n",
    "    lineend_lexicon[word] = transition\n",
    "    \n",
    "for word, transition in backward_lexicon.items():\n",
    "    transition = dict((key, value / sum(transition.values())) for key, value in transition.items())\n",
    "    backward_lexicon[word] = transition\n",
    "    \n",
    "for word, transition in lexicon.items():\n",
    "    transition = dict((key, value / sum(transition.values())) for key, value in transition.items())\n",
    "    lexicon[word] = transition"
   ]
  },
  {
   "cell_type": "code",
   "execution_count": 95,
   "id": "f235879b-63d5-429a-90aa-d674c9a1d040",
   "metadata": {},
   "outputs": [],
   "source": [
    "def flatten_deep(arr: list):\n",
    "    \"\"\" Flattens arbitrarily-nested list `arr` into single-dimensional. \"\"\"\n",
    "\n",
    "    while arr:\n",
    "        if isinstance(arr[0], list) and not isinstance(arr[0], str):  # Checks whether first element is a list\n",
    "            arr = arr[0] + arr[1:]  # If so, flattens that first element one level\n",
    "        else:\n",
    "            yield arr.pop(0)  # Otherwise yield as part of the flat array"
   ]
  },
  {
   "cell_type": "code",
   "execution_count": 95,
   "id": "e2602315-ecf4-4c32-ae05-7f4b76c749da",
   "metadata": {},
   "outputs": [],
   "source": [
    "# list of all words in lyrical corpus\n",
    "all_words = list(set(list(flatten_deep([x.split() for x in data]))))"
   ]
  },
  {
   "cell_type": "code",
   "execution_count": 96,
   "id": "a59c99d6-0c1f-4893-9958-e231f7929524",
   "metadata": {},
   "outputs": [
    {
     "data": {
      "text/plain": [
       "2449"
      ]
     },
     "execution_count": 96,
     "metadata": {},
     "output_type": "execute_result"
    }
   ],
   "source": [
    "len(all_words)"
   ]
  },
  {
   "cell_type": "code",
   "execution_count": 65,
   "id": "c8172bca-a744-4f47-9a5c-ded7d4be53a7",
   "metadata": {},
   "outputs": [],
   "source": [
    "# frequency of words starting a line\n",
    "start_words = [x.split()[0] for x in data]\n",
    "start_words_dict = Counter(start_words)"
   ]
  },
  {
   "cell_type": "code",
   "execution_count": 75,
   "id": "f5eee879-91fe-44b3-abe2-1ee3c0636ac0",
   "metadata": {},
   "outputs": [],
   "source": [
    "# frequency of line length\n",
    "line_length_dict = Counter([len(x.split()) for x in data])"
   ]
  },
  {
   "cell_type": "code",
   "execution_count": 1,
   "id": "36bb4eea-423d-4513-9ebb-450d3bbccb72",
   "metadata": {},
   "outputs": [],
   "source": [
    "# generate a lyrical line \n",
    "def predict_line():\n",
    "    # select random word to start\n",
    "    start_word = random.choices(list(start_words_dict.keys()), weights=start_words_dict.values(), k=1)[0]\n",
    "#     line_length = random.choices(list(line_length_dict.keys()), weights=line_length_dict.values(), k=1)[0]\n",
    "    \n",
    "    my_line = start_word\n",
    "    word = start_word\n",
    "    # our line should be a maximum of 15 words, unless we reach {{ENDLINE}} before then\n",
    "    for k in range(15):\n",
    "        if word in lexicon:\n",
    "            options = lexicon[word]\n",
    "        else:\n",
    "            while word not in lexicon:\n",
    "                word = np.random.choice(all_words)\n",
    "            options = lexicon[word]\n",
    "        predicted = np.random.choice(list(options.keys()), p=list(options.values()))\n",
    "        if predicted == \"{{ENDLINE}}\":\n",
    "            break\n",
    "        my_line += \" \" + predicted\n",
    "        word = predicted\n",
    "    return(my_line)\n",
    "\n",
    "# generate a lyrical line given the word we want the line to end with\n",
    "def predict_line_backward(end_word):\n",
    "#     line_length = random.choices(list(line_length_dict.keys()), weights=line_length_dict.values(), k=1)[0]\n",
    "    \n",
    "    my_line = end_word\n",
    "    word = end_word\n",
    "    for k in range(15):\n",
    "        if word in backward_lexicon:\n",
    "            options = backward_lexicon[word]\n",
    "        else:\n",
    "            while word not in backward_lexicon:\n",
    "                word = np.random.choice(all_words)\n",
    "            options = lexicon[word]\n",
    "        predicted = np.random.choice(list(options.keys()), p=list(options.values()))\n",
    "        if predicted == \"{{STARTLINE}}\":\n",
    "            break\n",
    "        my_line += \" \" + predicted\n",
    "        word = predicted\n",
    "    my_line = my_line.split()\n",
    "    my_line.reverse()\n",
    "    my_line = ' '.join(my_line)\n",
    "    return(my_line)\n",
    "\n",
    "# given a line, decide what word the line after that should end with\n",
    "def select_line_end(line):\n",
    "    # get last word in existing line\n",
    "    word = line.split()[-1]\n",
    "    \n",
    "    # if this line has been at the end of any of the lines in our corpus, use lineend_lexicon to select an ending word for the new line\n",
    "    if word in lineend_lexicon:\n",
    "        options = lineend_lexicon[word]\n",
    "        predicted = np.random.choice(list(options.keys()), p=list(options.values()))\n",
    "        return(predicted)\n",
    "    # otherwise just randomly select a word \n",
    "    else:\n",
    "        return(np.random.choice(all_words))\n"
   ]
  },
  {
   "cell_type": "code",
   "execution_count": 2,
   "id": "fe92a3cc-8b2b-4bbe-84ef-80a3f44b0d28",
   "metadata": {},
   "outputs": [
    {
     "ename": "NameError",
     "evalue": "name 'random' is not defined",
     "output_type": "error",
     "traceback": [
      "\u001b[0;31m---------------------------------------------------------------------------\u001b[0m",
      "\u001b[0;31mNameError\u001b[0m                                 Traceback (most recent call last)",
      "\u001b[0;32m<ipython-input-2-6128cfb29435>\u001b[0m in \u001b[0;36m<module>\u001b[0;34m\u001b[0m\n\u001b[1;32m      1\u001b[0m \u001b[0;31m# randomly generate one line\u001b[0m\u001b[0;34m\u001b[0m\u001b[0;34m\u001b[0m\u001b[0;34m\u001b[0m\u001b[0m\n\u001b[0;32m----> 2\u001b[0;31m \u001b[0ml1\u001b[0m \u001b[0;34m=\u001b[0m \u001b[0mpredict_line\u001b[0m\u001b[0;34m(\u001b[0m\u001b[0;34m)\u001b[0m\u001b[0;34m\u001b[0m\u001b[0;34m\u001b[0m\u001b[0m\n\u001b[0m\u001b[1;32m      3\u001b[0m \u001b[0mlines\u001b[0m \u001b[0;34m=\u001b[0m \u001b[0;34m[\u001b[0m\u001b[0ml1\u001b[0m\u001b[0;34m]\u001b[0m\u001b[0;34m\u001b[0m\u001b[0;34m\u001b[0m\u001b[0m\n\u001b[1;32m      4\u001b[0m \u001b[0;34m\u001b[0m\u001b[0m\n\u001b[1;32m      5\u001b[0m \u001b[0;31m# use each line to predict another line and append to list\u001b[0m\u001b[0;34m\u001b[0m\u001b[0;34m\u001b[0m\u001b[0;34m\u001b[0m\u001b[0m\n",
      "\u001b[0;32m<ipython-input-1-5a82769c851a>\u001b[0m in \u001b[0;36mpredict_line\u001b[0;34m()\u001b[0m\n\u001b[1;32m      2\u001b[0m \u001b[0;32mdef\u001b[0m \u001b[0mpredict_line\u001b[0m\u001b[0;34m(\u001b[0m\u001b[0;34m)\u001b[0m\u001b[0;34m:\u001b[0m\u001b[0;34m\u001b[0m\u001b[0;34m\u001b[0m\u001b[0m\n\u001b[1;32m      3\u001b[0m     \u001b[0;31m# select random word to start\u001b[0m\u001b[0;34m\u001b[0m\u001b[0;34m\u001b[0m\u001b[0;34m\u001b[0m\u001b[0m\n\u001b[0;32m----> 4\u001b[0;31m     \u001b[0mstart_word\u001b[0m \u001b[0;34m=\u001b[0m \u001b[0mrandom\u001b[0m\u001b[0;34m.\u001b[0m\u001b[0mchoices\u001b[0m\u001b[0;34m(\u001b[0m\u001b[0mlist\u001b[0m\u001b[0;34m(\u001b[0m\u001b[0mstart_words_dict\u001b[0m\u001b[0;34m.\u001b[0m\u001b[0mkeys\u001b[0m\u001b[0;34m(\u001b[0m\u001b[0;34m)\u001b[0m\u001b[0;34m)\u001b[0m\u001b[0;34m,\u001b[0m \u001b[0mweights\u001b[0m\u001b[0;34m=\u001b[0m\u001b[0mstart_words_dict\u001b[0m\u001b[0;34m.\u001b[0m\u001b[0mvalues\u001b[0m\u001b[0;34m(\u001b[0m\u001b[0;34m)\u001b[0m\u001b[0;34m,\u001b[0m \u001b[0mk\u001b[0m\u001b[0;34m=\u001b[0m\u001b[0;36m1\u001b[0m\u001b[0;34m)\u001b[0m\u001b[0;34m[\u001b[0m\u001b[0;36m0\u001b[0m\u001b[0;34m]\u001b[0m\u001b[0;34m\u001b[0m\u001b[0;34m\u001b[0m\u001b[0m\n\u001b[0m\u001b[1;32m      5\u001b[0m \u001b[0;31m#     line_length = random.choices(list(line_length_dict.keys()), weights=line_length_dict.values(), k=1)[0]\u001b[0m\u001b[0;34m\u001b[0m\u001b[0;34m\u001b[0m\u001b[0;34m\u001b[0m\u001b[0m\n\u001b[1;32m      6\u001b[0m \u001b[0;34m\u001b[0m\u001b[0m\n",
      "\u001b[0;31mNameError\u001b[0m: name 'random' is not defined"
     ]
    }
   ],
   "source": [
    "# randomly generate one line\n",
    "l1 = predict_line()\n",
    "lines = [l1]\n",
    "\n",
    "# use each line to predict another line and append to list\n",
    "for i in range(20):\n",
    "    lines.append(predict_line_backward(select_line_end(lines[i])))"
   ]
  },
  {
   "cell_type": "code",
   "execution_count": 184,
   "id": "e1237e12-bff1-4b23-9a63-92a8f649c4f0",
   "metadata": {},
   "outputs": [
    {
     "data": {
      "text/plain": [
       "[\"i'm alone\",\n",
       " 'in my lonesome',\n",
       " 'put upon',\n",
       " \"i'm back on\",\n",
       " \"finally through me don't believe in my spine i've got a time gone\",\n",
       " 'for the united federation of a line drop you near to have you had to free',\n",
       " \"everybody's feeling\",\n",
       " \"i'm falling in the bee\",\n",
       " 'hear me',\n",
       " 'dance',\n",
       " 'but me',\n",
       " 'there’s this land forever and met in the streets you baby',\n",
       " 'for a little too hard to make sure that',\n",
       " 'lying there soon',\n",
       " 'how far',\n",
       " 'drove up at the same things',\n",
       " 'and gone by her social status',\n",
       " 'and adobe slats',\n",
       " 'boys i alone love you see my girls',\n",
       " 'i only lied that old city walls and said i keep things',\n",
       " \"the man she's too bad that he's such a feeling warm and there's a social status\"]"
      ]
     },
     "execution_count": 184,
     "metadata": {},
     "output_type": "execute_result"
    }
   ],
   "source": [
    "lines"
   ]
  },
  {
   "cell_type": "code",
   "execution_count": null,
   "id": "5133e1b6-c1f5-41dd-975b-3eba7f3ff1bd",
   "metadata": {},
   "outputs": [],
   "source": [
    "#TODO: \n",
    "# include some notion of repeating lines\n",
    "# add some randomness when selecting next line ends so we don't get 20 rhyming lines in a row "
   ]
  }
 ],
 "metadata": {
  "kernelspec": {
   "display_name": "Python 3",
   "language": "python",
   "name": "python3"
  },
  "language_info": {
   "codemirror_mode": {
    "name": "ipython",
    "version": 3
   },
   "file_extension": ".py",
   "mimetype": "text/x-python",
   "name": "python",
   "nbconvert_exporter": "python",
   "pygments_lexer": "ipython3",
   "version": "3.8.8"
  }
 },
 "nbformat": 4,
 "nbformat_minor": 5
}
