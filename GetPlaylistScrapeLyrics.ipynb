{
 "cells": [
  {
   "cell_type": "markdown",
   "id": "c636c28c-ec43-4847-9b97-2331f73ebc06",
   "metadata": {},
   "source": [
    "# Scraping lyrics for songs in a Spotify playlist\n",
    "\n",
    "In this notebook, we'll get a list of songs from a playlist using Spotipy. Then, we'll scrape the lyrics for these songs from Genius.com and output a list of these lyrics into a `.txt` file for downstream analysis."
   ]
  },
  {
   "cell_type": "code",
   "execution_count": 16,
   "id": "9cec02b3-cc24-410c-8819-c5be81552887",
   "metadata": {},
   "outputs": [],
   "source": [
    "import pandas as pd\n",
    "import spotipy\n",
    "from spotipy.oauth2 import SpotifyClientCredentials\n",
    "from bs4 import Tag, NavigableString, BeautifulSoup\n",
    "import requests\n",
    "import itertools\n",
    "from configparser import ConfigParser\n",
    "import re\n",
    "import string\n",
    "from collections.abc import Iterable\n"
   ]
  },
  {
   "cell_type": "markdown",
   "id": "ccb8cd59-e23c-41b5-ae6d-bf3ba1e29e5c",
   "metadata": {},
   "source": [
    "# Get playlist songs"
   ]
  },
  {
   "cell_type": "markdown",
   "id": "04ee75f7-678a-415e-a8a0-dbffb5441c22",
   "metadata": {},
   "source": [
    "First, we'll read our client id and secret information (to use for the Spotify client) from a file called `config.ini`. Then, we'll use the info from this config file to initiate Spotipy."
   ]
  },
  {
   "cell_type": "code",
   "execution_count": 2,
   "id": "8103d281-bbbe-4271-bb66-eb8038928b2c",
   "metadata": {},
   "outputs": [
    {
     "data": {
      "text/plain": [
       "['config.ini']"
      ]
     },
     "execution_count": 2,
     "metadata": {},
     "output_type": "execute_result"
    }
   ],
   "source": [
    "config_object = ConfigParser()\n",
    "config_object.read(\"config.ini\")"
   ]
  },
  {
   "cell_type": "code",
   "execution_count": 4,
   "id": "b5492db2-8039-4e38-bc6d-f1ea1fb5b5ee",
   "metadata": {},
   "outputs": [],
   "source": [
    "client_credentials_manager = SpotifyClientCredentials(client_id=config_object['SPOTIFYINFO']['client_id'], client_secret=config_object['SPOTIFYINFO']['client_secret'])\n",
    "sp = spotipy.Spotify(client_credentials_manager = client_credentials_manager)"
   ]
  },
  {
   "cell_type": "code",
   "execution_count": 5,
   "id": "8edb3619-c46c-4757-bc0c-cb837007e3ff",
   "metadata": {},
   "outputs": [],
   "source": [
    "# read in a user's playlist link (and, if url, convert to uri)\n",
    "def parse_user_input(x):\n",
    "    # if uri, return\n",
    "    colon_split = x.split(\":\")\n",
    "    if len(colon_split) == 3 and colon_split[0] == 'spotify' and colon_split[1] == 'playlist':\n",
    "        return x\n",
    "    # else convert to uri\n",
    "    elif \"open.spotify.com/playlist/\" in x:\n",
    "        return 'spotify:playlist:' + x.split(\"/\")[-1]\n",
    "    else:\n",
    "        return \"\""
   ]
  },
  {
   "cell_type": "markdown",
   "id": "475a6f83-ceb7-47e7-8211-fc6c4df09c08",
   "metadata": {},
   "source": [
    "Once we're logged in, we'll get the track list using a link to our playlist of interest (either a URI or URL) — the Spotipy `playlist` function takes a URI, but the `parse_user_input` function provided above can convert a URL to a URI."
   ]
  },
  {
   "cell_type": "code",
   "execution_count": 7,
   "id": "3c2531e9-10ed-4185-8f0d-bd03dfad19ab",
   "metadata": {},
   "outputs": [],
   "source": [
    "plist = sp.playlist(parse_user_input(\"https://open.spotify.com/playlist/79yBBLuDegzKj6dTcH8xH1?si=1a07281e992847d1\"))"
   ]
  },
  {
   "cell_type": "markdown",
   "id": "e1bf3324-e064-4cea-947e-c40b5f7c892d",
   "metadata": {},
   "source": [
    "# Scrape Lyrics from Genius"
   ]
  },
  {
   "cell_type": "code",
   "execution_count": 10,
   "id": "accc19d1-f2de-4831-919e-9669dd9f0c30",
   "metadata": {},
   "outputs": [],
   "source": [
    "# given an entry (representing a song in our playlist), return the url to its genius page\n",
    "def convert_to_genius_url(entry):\n",
    "    name = clean_song_name(entry['track']['name'])\n",
    "    artist = clean_song_name(entry['track']['artists'][0]['name'])\n",
    "    return(\"https://genius.com/\" + artist + \"-\" + name + \"-lyrics\")"
   ]
  },
  {
   "cell_type": "code",
   "execution_count": 11,
   "id": "e3d74a5c-cd2a-4f2c-a932-77ed628157ab",
   "metadata": {},
   "outputs": [],
   "source": [
    "# convert song name to its representation in the genius url (spaces -> dashes, remove punctuation, etc.)\n",
    "def clean_song_name(name):\n",
    "    if \"(\" in name:\n",
    "        in_parenthesis = re.findall(r'\\(.*?\\)', name)\n",
    "        \n",
    "        for x in in_parenthesis:\n",
    "            # how to handle if it's a version or edit\n",
    "            if \"version\" in x or \"edit\" in x or \"remix\" in x or \"remaster\" in x:\n",
    "                name = name.replace(x,\"\")\n",
    "            # how to handle if it's just part of the song name            \n",
    "            else:\n",
    "                name = name.replace(x,x.replace(\"(\",\"\").replace(\")\",\"\"))\n",
    "    if \" - \" in name:\n",
    "        name = name.split(\"-\")[0]\n",
    "        \n",
    "    regex=re.compile('|'.join(map(re.escape, [\".\", \",\",\"!\",\"?\"])))\n",
    "    return regex.sub(\"\",name.strip().replace(\" \",\"-\").lower())\n",
    "                "
   ]
  },
  {
   "cell_type": "markdown",
   "id": "fd90cccf-8232-4762-b44f-bc452ed1f823",
   "metadata": {},
   "source": [
    "First, we look at each song in our playlist and identify its corresponding page on genius.com"
   ]
  },
  {
   "cell_type": "code",
   "execution_count": 14,
   "id": "9f2b04ae-171a-4cb7-aca8-0c4c98fe9169",
   "metadata": {},
   "outputs": [],
   "source": [
    "urls = [convert_to_genius_url(t1) for t1 in plist['tracks']['items']]"
   ]
  },
  {
   "cell_type": "code",
   "execution_count": 15,
   "id": "2374c395-80c6-41ea-9009-6d662db978d9",
   "metadata": {},
   "outputs": [
    {
     "data": {
      "text/plain": [
       "'https://genius.com/queens-of-the-stone-age-no-one-knows-lyrics'"
      ]
     },
     "execution_count": 15,
     "metadata": {},
     "output_type": "execute_result"
    }
   ],
   "source": [
    "urls[8]"
   ]
  },
  {
   "cell_type": "code",
   "execution_count": 15,
   "id": "92eaa9e7-3503-4f42-84d7-eba8671000c0",
   "metadata": {},
   "outputs": [],
   "source": [
    "def scrape_lyrics(url):\n",
    "    page = requests.get(url)\n",
    "    if page.status_code == 200:\n",
    "        html = BeautifulSoup(page.text, 'html.parser')\n",
    "        lyrics = html.findAll(\"div\", class_=\"Lyrics__Container-sc-1ynbvzw-6 jYfhrf\")\n",
    "        return list(flatten_deep([x.contents for x in lyrics]))\n",
    "    else:\n",
    "        return \"\""
   ]
  },
  {
   "cell_type": "code",
   "execution_count": 17,
   "id": "00b927b8-478c-4e9b-87b0-dd7427bf1129",
   "metadata": {},
   "outputs": [],
   "source": [
    "def clean_line(line):\n",
    "    if isinstance(line, Tag):\n",
    "        if len(line.contents) > 0:\n",
    "            return [clean_line(x) for x in line.contents[0]]\n",
    "        else:\n",
    "            return \"\"\n",
    "    elif isinstance(line, NavigableString):\n",
    "        return(line.string)\n",
    "    else:\n",
    "        return \"\"\n",
    "\n",
    "def remove_tags(line):\n",
    "    to_remove = ['chorus','verse','bridge','intro','outro','pre-chorus','hook','refrain','solo']\n",
    "    res = re.sub(r'[^\\w\\s]', '', line)\n",
    "    if any(res.startswith(x) for x in to_remove):\n",
    "        return \"\"\n",
    "    elif len(line) < 3:\n",
    "        return \"\"\n",
    "    \n",
    "    return line\n",
    "    \n",
    "def clean_lyrics(lyrics):\n",
    "    cleaned = [clean_line(x) for x in lyrics]\n",
    "    cleaned = [x.lower() for x in flatten_deep(cleaned) if x != \"\"]\n",
    "    cleaned = [remove_tags(x) for x in cleaned]\n",
    "    return [x for x in cleaned if x != \"\"]"
   ]
  },
  {
   "cell_type": "code",
   "execution_count": 18,
   "id": "ad431afb-8b48-4044-a2bb-a029c6ae9753",
   "metadata": {},
   "outputs": [],
   "source": [
    "# taken from: https://github.com/jorgeorpinel/flatten_nested_lists/blob/master/flatten.py\n",
    "# with added logic to not break strings into characters\n",
    "def flatten_deep(arr: list):\n",
    "    \"\"\" Flattens arbitrarily-nested list `arr` into single-dimensional. \"\"\"\n",
    "\n",
    "    while arr:\n",
    "        if isinstance(arr[0], list) and not isinstance(arr[0], str):  # Checks whether first element is a list\n",
    "            arr = arr[0] + arr[1:]  # If so, flattens that first element one level\n",
    "        else:\n",
    "            yield arr.pop(0)  # Otherwise yield as part of the flat array"
   ]
  },
  {
   "cell_type": "markdown",
   "id": "d7c5facb-97e0-4be6-9ab0-e6f24b8c18f9",
   "metadata": {},
   "source": [
    "This will be done within a loop, but let's take a quick look at how this works for one song:"
   ]
  },
  {
   "cell_type": "code",
   "execution_count": 19,
   "id": "7b6261b9-4fbe-4bf5-bc24-3aedd5c3c50d",
   "metadata": {},
   "outputs": [],
   "source": [
    "lyric = scrape_lyrics(urls[8])"
   ]
  },
  {
   "cell_type": "code",
   "execution_count": 21,
   "id": "922cec7d-f7a9-4234-b1be-8f82c29706be",
   "metadata": {},
   "outputs": [
    {
     "data": {
      "text/plain": [
       "['we get some rules to follow',\n",
       " 'that and this, these and those',\n",
       " 'no one knows',\n",
       " 'we get these pills to swallow',\n",
       " 'how they stick in your throat',\n",
       " 'tastes like gold',\n",
       " 'oh, what you do to me',\n",
       " 'no one knows',\n",
       " \"and i realize you're mine\",\n",
       " 'indeed a fool am i',\n",
       " \"and i realize you're mine\",\n",
       " 'indeed a fool am i',\n",
       " 'i journey through the desert',\n",
       " 'of the mind with no hope',\n",
       " 'i follow',\n",
       " 'i drift along the ocean',\n",
       " 'dead lifeboat in the sun',\n",
       " 'end come undone',\n",
       " 'pleasantly caving in',\n",
       " 'i come undone',\n",
       " \"and i realize you're mine\",\n",
       " 'indeed a fool am i',\n",
       " \"and i realize you're mine\",\n",
       " 'indeed a fool am i',\n",
       " 'heaven smiles above me',\n",
       " 'what a gift here below',\n",
       " 'but no one knows',\n",
       " 'a gift that you give to me',\n",
       " 'no one knows',\n",
       " '…buenas tardes señores y señoritas aquí está el',\n",
       " '\"dj héctor bonifacio echevarría cervantes de la cruz arroyo rojas\"',\n",
       " 'esta es la radio quetzalcoatl',\n",
       " 'estación donde el rock vive y no muere',\n",
       " 'vamos a escuchar un par de temas de queens of the stone age',\n",
       " 'primero vamos a escuchar \"first it giveth...\"',\n",
       " '...qué música impresionante temible y verdaderamente ahora van a ver a ver a ver a ver aquí va aquí va aquí va aquí va…']"
      ]
     },
     "execution_count": 21,
     "metadata": {},
     "output_type": "execute_result"
    }
   ],
   "source": [
    "cleaned = clean_lyrics(lyric)\n",
    "cleaned"
   ]
  },
  {
   "cell_type": "markdown",
   "id": "542090ad-e3f5-47c6-a3af-2175b83e726e",
   "metadata": {},
   "source": [
    "Now, we can scrape lyrics for all the songs in our playlist and save to a text file to use downstream."
   ]
  },
  {
   "cell_type": "code",
   "execution_count": 22,
   "id": "a73f98a0-5571-471f-9e34-c45b34c69746",
   "metadata": {},
   "outputs": [],
   "source": [
    "all_lyrics = [clean_lyrics(scrape_lyrics(x)) for x in urls]"
   ]
  },
  {
   "cell_type": "code",
   "execution_count": 26,
   "id": "39c8d4b8-fd1e-48c7-af6a-96923d40d4ed",
   "metadata": {},
   "outputs": [],
   "source": [
    "playlist_lyrics = list(flatten_deep(all_lyrics))"
   ]
  },
  {
   "cell_type": "code",
   "execution_count": 28,
   "id": "03c26ff8-7c68-4236-b162-774571f22a31",
   "metadata": {},
   "outputs": [],
   "source": [
    "with open('playlist.txt', 'w') as f:\n",
    "    for item in playlist_lyrics:\n",
    "        f.write(\"%s\\n\" % item)"
   ]
  },
  {
   "cell_type": "code",
   "execution_count": null,
   "id": "d848cf12-000c-432f-9c80-efd8a4b8263b",
   "metadata": {},
   "outputs": [],
   "source": []
  }
 ],
 "metadata": {
  "kernelspec": {
   "display_name": "Python 3",
   "language": "python",
   "name": "python3"
  },
  "language_info": {
   "codemirror_mode": {
    "name": "ipython",
    "version": 3
   },
   "file_extension": ".py",
   "mimetype": "text/x-python",
   "name": "python",
   "nbconvert_exporter": "python",
   "pygments_lexer": "ipython3",
   "version": "3.8.8"
  }
 },
 "nbformat": 4,
 "nbformat_minor": 5
}
